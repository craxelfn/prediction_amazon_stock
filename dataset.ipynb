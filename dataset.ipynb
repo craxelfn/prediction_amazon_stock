{
 "cells": [
  {
   "cell_type": "code",
   "execution_count": 6,
   "id": "6e806af9-840a-4385-a814-42effcf43630",
   "metadata": {},
   "outputs": [
    {
     "name": "stderr",
     "output_type": "stream",
     "text": [
      "[*********************100%***********************]  1 of 1 completed"
     ]
    },
    {
     "name": "stdout",
     "output_type": "stream",
     "text": [
      "Amazon stock data saved as 'amazon_stock_data.csv'.\n"
     ]
    },
    {
     "name": "stderr",
     "output_type": "stream",
     "text": [
      "\n"
     ]
    }
   ],
   "source": [
    "# Import necessary libraries\n",
    "import yfinance as yf\n",
    "import pandas as pd\n",
    "\n",
    "# Download Amazon stock data using yfinance\n",
    "symbol = 'AMZN'  # Amazon stock symbol\n",
    "start_date = '2022-05-15'\n",
    "end_date = '2023-04-05'\n",
    "\n",
    "# Get stock data for Amazon between the specified dates\n",
    "stock_data = yf.download(symbol, start=start_date, end=end_date)\n",
    "\n",
    "# Reset index to make 'Date' a column instead of an index\n",
    "stock_data.reset_index(inplace=True)\n",
    "\n",
    "# Now explicitly select the 'Date' and 'Close' columns before saving\n",
    "stock_data[['Date', 'Close']].to_csv('amazon_stock_data.csv', index=False)\n",
    "\n",
    "# Inform user that the data has been saved\n",
    "print(\"Amazon stock data saved as 'amazon_stock_data.csv'.\")\n"
   ]
  }
 ],
 "metadata": {
  "kernelspec": {
   "display_name": "Python 3 (ipykernel)",
   "language": "python",
   "name": "python3"
  },
  "language_info": {
   "codemirror_mode": {
    "name": "ipython",
    "version": 3
   },
   "file_extension": ".py",
   "mimetype": "text/x-python",
   "name": "python",
   "nbconvert_exporter": "python",
   "pygments_lexer": "ipython3",
   "version": "3.11.9"
  }
 },
 "nbformat": 4,
 "nbformat_minor": 5
}
